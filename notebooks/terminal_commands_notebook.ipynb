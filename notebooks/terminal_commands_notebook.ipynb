{
 "cells": [
  {
   "cell_type": "code",
   "execution_count": 1,
   "id": "ff37f572-d8e2-4ddc-8762-2f604fd3173c",
   "metadata": {},
   "outputs": [
    {
     "name": "stdout",
     "output_type": "stream",
     "text": [
      "The dataset was successfully splitted and saved in the directory: \u001b[1mdata\\raw\u001b[0m\n",
      "\n"
     ]
    }
   ],
   "source": [
    "!python scripts/data_splitting.py --save-to=\"./data/raw/\""
   ]
  },
  {
   "cell_type": "code",
   "execution_count": 2,
   "id": "060172c2-3403-4fbd-a75d-a15c0964b508",
   "metadata": {},
   "outputs": [
    {
     "name": "stdout",
     "output_type": "stream",
     "text": [
      "EDA done!\n"
     ]
    }
   ],
   "source": [
    "!python scripts/eda.py --train-data-path=\"./data/raw/train_data.csv\" --plot-to=\"./results/figures/\""
   ]
  },
  {
   "cell_type": "code",
   "execution_count": 3,
   "id": "1de4e48a-f2da-4502-b1ae-ebc366fd50cb",
   "metadata": {},
   "outputs": [
    {
     "name": "stdout",
     "output_type": "stream",
     "text": [
      "Feature Engineering done!\n"
     ]
    }
   ],
   "source": [
    "!python scripts/feature_engineering.py --raw-data-path=\"./data/raw/\" --data-to=\"./data/processed/\" --plot-to=\"./results/figures/\" --preprocessor-to=\"./results/models/\""
   ]
  },
  {
   "cell_type": "code",
   "execution_count": 4,
   "id": "025052c4-d0a6-4725-ad59-6f89fd544e19",
   "metadata": {},
   "outputs": [
    {
     "name": "stdout",
     "output_type": "stream",
     "text": [
      "Dummy Classifier fitting done. All the results are saved!\n",
      "Logistic Regression Hyperparameter tuning done. All the results are saved!\n",
      "Decision Tree Hyperparameter tuning done. All the results are saved!\n",
      "Random Forest Hyperparameter tuning done. All the results are saved!\n",
      "Support Vector Machines Hyperparameter tuning done. All the results are saved!\n"
     ]
    }
   ],
   "source": [
    "!python scripts/model_training.py --processed-data-path=\"./data/processed/\" --preprocessor-path=\"./results/models/preprocessor.pickle\" --models-to=\"./results/models/\" --results-to=\"./results/tables/\""
   ]
  },
  {
   "cell_type": "code",
   "execution_count": 5,
   "id": "cd925d97-b60c-423e-90e0-eeb0188a6f81",
   "metadata": {},
   "outputs": [],
   "source": [
    "!python scripts/feature_importance.py --processed-data-path=\"./data/processed/\" --model-path=\"./results/models/\" --plots-to=\"./results/figures/\" --results-to=\"./results/tables/\""
   ]
  },
  {
   "cell_type": "code",
   "execution_count": 6,
   "id": "cd7cc4c9-6c10-47f4-8104-34e4f01c0761",
   "metadata": {},
   "outputs": [],
   "source": [
    "!python scripts/evaluate.py --best-model-path=\"./results/models/best_random_forest_classifier.pickle\" --processed-data-path=\"./data/processed/\" --results-to=\"./results/tables/\" --plots-to=\"./results/figures/\""
   ]
  },
  {
   "cell_type": "code",
   "execution_count": null,
   "id": "a44513f9-2ac9-4227-b2fa-02cf9596cf78",
   "metadata": {},
   "outputs": [],
   "source": []
  }
 ],
 "metadata": {
  "kernelspec": {
   "display_name": "Python 3 (ipykernel)",
   "language": "python",
   "name": "python3"
  },
  "language_info": {
   "codemirror_mode": {
    "name": "ipython",
    "version": 3
   },
   "file_extension": ".py",
   "mimetype": "text/x-python",
   "name": "python",
   "nbconvert_exporter": "python",
   "pygments_lexer": "ipython3",
   "version": "3.11.9"
  }
 },
 "nbformat": 4,
 "nbformat_minor": 5
}
